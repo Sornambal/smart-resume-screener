{
 "cells": [
  {
   "cell_type": "code",
   "execution_count": 1,
   "id": "0380e557",
   "metadata": {},
   "outputs": [],
   "source": [
    "import os\n",
    "import sys\n",
    "import pandas as pd\n",
    "\n",
    "# 🔧 Add the project root to Python path\n",
    "project_root = os.path.abspath(os.path.join(\"..\"))\n",
    "sys.path.append(project_root)\n",
    "\n",
    "# ✅ Now import your modules\n",
    "from utils.parser import extract_text_from_pdf\n",
    "from utils.cleaner import clean_text\n",
    "\n",
    "resume_dir = os.path.join(project_root, \"resumes\")\n",
    "job_roles = [\"data_science\", \"web_development\", \"cloud_devops\", \"embedded_engineer\", \"full_stack\"]\n"
   ]
  },
  {
   "cell_type": "code",
   "execution_count": 3,
   "id": "a5792cb3",
   "metadata": {},
   "outputs": [],
   "source": [
    "import os\n",
    "import sys\n",
    "import pandas as pd\n",
    "\n",
    "# 🔧 Add root to path so we can import from utils/\n",
    "project_root = os.path.abspath(os.path.join(\"..\"))\n",
    "sys.path.append(project_root)\n",
    "\n",
    "from utils.parser import extract_text_from_pdf\n",
    "from utils.cleaner import clean_text\n"
   ]
  },
  {
   "cell_type": "code",
   "execution_count": 4,
   "id": "fd39fcd4",
   "metadata": {},
   "outputs": [
    {
     "data": {
      "text/html": [
       "<div>\n",
       "<style scoped>\n",
       "    .dataframe tbody tr th:only-of-type {\n",
       "        vertical-align: middle;\n",
       "    }\n",
       "\n",
       "    .dataframe tbody tr th {\n",
       "        vertical-align: top;\n",
       "    }\n",
       "\n",
       "    .dataframe thead th {\n",
       "        text-align: right;\n",
       "    }\n",
       "</style>\n",
       "<table border=\"1\" class=\"dataframe\">\n",
       "  <thead>\n",
       "    <tr style=\"text-align: right;\">\n",
       "      <th></th>\n",
       "      <th>resume_text</th>\n",
       "      <th>label</th>\n",
       "    </tr>\n",
       "  </thead>\n",
       "  <tbody>\n",
       "    <tr>\n",
       "      <th>0</th>\n",
       "      <td>aarav mehta data scientist email aarav mehta e...</td>\n",
       "      <td>data_science</td>\n",
       "    </tr>\n",
       "    <tr>\n",
       "      <th>1</th>\n",
       "      <td>riya sharma data analyst email riya sharma exa...</td>\n",
       "      <td>data_science</td>\n",
       "    </tr>\n",
       "    <tr>\n",
       "      <th>2</th>\n",
       "      <td>karan verma backend developer email karan verm...</td>\n",
       "      <td>web_development</td>\n",
       "    </tr>\n",
       "    <tr>\n",
       "      <th>3</th>\n",
       "      <td>sneha reddy software engineer backend email sn...</td>\n",
       "      <td>web_development</td>\n",
       "    </tr>\n",
       "    <tr>\n",
       "      <th>4</th>\n",
       "      <td>vikram singh cloud devops engineer email vikra...</td>\n",
       "      <td>cloud_devops</td>\n",
       "    </tr>\n",
       "  </tbody>\n",
       "</table>\n",
       "</div>"
      ],
      "text/plain": [
       "                                         resume_text            label\n",
       "0  aarav mehta data scientist email aarav mehta e...     data_science\n",
       "1  riya sharma data analyst email riya sharma exa...     data_science\n",
       "2  karan verma backend developer email karan verm...  web_development\n",
       "3  sneha reddy software engineer backend email sn...  web_development\n",
       "4  vikram singh cloud devops engineer email vikra...     cloud_devops"
      ]
     },
     "execution_count": 4,
     "metadata": {},
     "output_type": "execute_result"
    }
   ],
   "source": [
    "resume_dir = os.path.join(project_root, \"resumes\")\n",
    "job_roles = [\"data_science\", \"web_development\", \"cloud_devops\", \"embedded_engineer\", \"full_stack\"]\n",
    "\n",
    "resume_data = []\n",
    "\n",
    "for role in job_roles:\n",
    "    folder_path = os.path.join(resume_dir, role)\n",
    "    for file in os.listdir(folder_path):\n",
    "        if file.endswith(\".pdf\"):\n",
    "            full_path = os.path.join(folder_path, file)\n",
    "            try:\n",
    "                text = extract_text_from_pdf(full_path)\n",
    "                cleaned = clean_text(text)\n",
    "                resume_data.append({\n",
    "                    \"resume_text\": cleaned,\n",
    "                    \"label\": role\n",
    "                })\n",
    "            except Exception as e:\n",
    "                print(f\"⚠️ Error reading {file}: {e}\")\n",
    "\n",
    "df = pd.DataFrame(resume_data)\n",
    "df.head()\n"
   ]
  },
  {
   "cell_type": "code",
   "execution_count": 5,
   "id": "7f3e5d8e",
   "metadata": {},
   "outputs": [],
   "source": [
    "from sklearn.feature_extraction.text import TfidfVectorizer\n",
    "\n",
    "vectorizer = TfidfVectorizer(max_features=1000)\n",
    "X = vectorizer.fit_transform(df[\"resume_text\"])\n",
    "y = df[\"label\"]\n"
   ]
  },
  {
   "cell_type": "code",
   "execution_count": 6,
   "id": "faea96c4",
   "metadata": {},
   "outputs": [
    {
     "name": "stdout",
     "output_type": "stream",
     "text": [
      "✅ Accuracy: 0.0\n",
      "              precision    recall  f1-score   support\n",
      "\n",
      "cloud_devops       0.00      0.00      0.00       0.0\n",
      "data_science       0.00      0.00      0.00       1.0\n",
      "  full_stack       0.00      0.00      0.00       1.0\n",
      "\n",
      "    accuracy                           0.00       2.0\n",
      "   macro avg       0.00      0.00      0.00       2.0\n",
      "weighted avg       0.00      0.00      0.00       2.0\n",
      "\n"
     ]
    },
    {
     "name": "stderr",
     "output_type": "stream",
     "text": [
      "c:\\Users\\SORNAMBAL\\Downloads\\Resume Screener\\venv\\Lib\\site-packages\\sklearn\\metrics\\_classification.py:1706: UndefinedMetricWarning: Precision is ill-defined and being set to 0.0 in labels with no predicted samples. Use `zero_division` parameter to control this behavior.\n",
      "  _warn_prf(average, modifier, f\"{metric.capitalize()} is\", result.shape[0])\n",
      "c:\\Users\\SORNAMBAL\\Downloads\\Resume Screener\\venv\\Lib\\site-packages\\sklearn\\metrics\\_classification.py:1706: UndefinedMetricWarning: Recall is ill-defined and being set to 0.0 in labels with no true samples. Use `zero_division` parameter to control this behavior.\n",
      "  _warn_prf(average, modifier, f\"{metric.capitalize()} is\", result.shape[0])\n",
      "c:\\Users\\SORNAMBAL\\Downloads\\Resume Screener\\venv\\Lib\\site-packages\\sklearn\\metrics\\_classification.py:1706: UndefinedMetricWarning: Precision is ill-defined and being set to 0.0 in labels with no predicted samples. Use `zero_division` parameter to control this behavior.\n",
      "  _warn_prf(average, modifier, f\"{metric.capitalize()} is\", result.shape[0])\n",
      "c:\\Users\\SORNAMBAL\\Downloads\\Resume Screener\\venv\\Lib\\site-packages\\sklearn\\metrics\\_classification.py:1706: UndefinedMetricWarning: Recall is ill-defined and being set to 0.0 in labels with no true samples. Use `zero_division` parameter to control this behavior.\n",
      "  _warn_prf(average, modifier, f\"{metric.capitalize()} is\", result.shape[0])\n",
      "c:\\Users\\SORNAMBAL\\Downloads\\Resume Screener\\venv\\Lib\\site-packages\\sklearn\\metrics\\_classification.py:1706: UndefinedMetricWarning: Precision is ill-defined and being set to 0.0 in labels with no predicted samples. Use `zero_division` parameter to control this behavior.\n",
      "  _warn_prf(average, modifier, f\"{metric.capitalize()} is\", result.shape[0])\n",
      "c:\\Users\\SORNAMBAL\\Downloads\\Resume Screener\\venv\\Lib\\site-packages\\sklearn\\metrics\\_classification.py:1706: UndefinedMetricWarning: Recall is ill-defined and being set to 0.0 in labels with no true samples. Use `zero_division` parameter to control this behavior.\n",
      "  _warn_prf(average, modifier, f\"{metric.capitalize()} is\", result.shape[0])\n"
     ]
    }
   ],
   "source": [
    "from sklearn.model_selection import train_test_split\n",
    "from sklearn.ensemble import RandomForestClassifier\n",
    "from sklearn.metrics import accuracy_score, classification_report\n",
    "\n",
    "X_train, X_test, y_train, y_test = train_test_split(X, y, test_size=0.2, random_state=42)\n",
    "\n",
    "model = RandomForestClassifier()\n",
    "model.fit(X_train, y_train)\n",
    "\n",
    "y_pred = model.predict(X_test)\n",
    "print(\"✅ Accuracy:\", accuracy_score(y_test, y_pred))\n",
    "print(classification_report(y_test, y_pred))\n"
   ]
  },
  {
   "cell_type": "code",
   "execution_count": 7,
   "id": "84caf2b4",
   "metadata": {},
   "outputs": [
    {
     "name": "stdout",
     "output_type": "stream",
     "text": [
      "✅ Model and vectorizer saved to /models/\n"
     ]
    }
   ],
   "source": [
    "import joblib\n",
    "model_dir = os.path.join(project_root, \"models\")\n",
    "os.makedirs(model_dir, exist_ok=True)\n",
    "\n",
    "joblib.dump(model, os.path.join(model_dir, \"classifier.pkl\"))\n",
    "joblib.dump(vectorizer, os.path.join(model_dir, \"vectorizer.pkl\"))\n",
    "\n",
    "print(\"✅ Model and vectorizer saved to /models/\")\n"
   ]
  }
 ],
 "metadata": {
  "kernelspec": {
   "display_name": "venv",
   "language": "python",
   "name": "python3"
  },
  "language_info": {
   "codemirror_mode": {
    "name": "ipython",
    "version": 3
   },
   "file_extension": ".py",
   "mimetype": "text/x-python",
   "name": "python",
   "nbconvert_exporter": "python",
   "pygments_lexer": "ipython3",
   "version": "3.12.2"
  }
 },
 "nbformat": 4,
 "nbformat_minor": 5
}
